{
 "cells": [
  {
   "cell_type": "code",
   "execution_count": 1,
   "metadata": {},
   "outputs": [
    {
     "name": "stdout",
     "output_type": "stream",
     "text": [
      "Populating the interactive namespace from numpy and matplotlib\n"
     ]
    }
   ],
   "source": [
    "%pylab inline"
   ]
  },
  {
   "cell_type": "code",
   "execution_count": 2,
   "metadata": {},
   "outputs": [
    {
     "name": "stderr",
     "output_type": "stream",
     "text": [
      "Using TensorFlow backend.\n"
     ]
    }
   ],
   "source": [
    "import os\n",
    "import sys\n",
    "\n",
    "import pandas as pd\n",
    "\n",
    "from keras.models import Model\n",
    "import keras.backend as K\n",
    "from keras.layers import Input, Dense, Conv2D, Add, Activation\n",
    "from keras.callbacks import LearningRateScheduler\n",
    "\n",
    "from keras.datasets import mnist, cifar10"
   ]
  },
  {
   "cell_type": "code",
   "execution_count": 3,
   "metadata": {},
   "outputs": [],
   "source": [
    "def obtain(dir_path):\n",
    "    \"\"\"\n",
    "    Downloads the dataset to ``dir_path``.\n",
    "    \"\"\"\n",
    "\n",
    "    dir_path = os.path.expanduser(dir_path)\n",
    "    print('Downloading the dataset')\n",
    "    import urllib\n",
    "    urllib.urlretrieve('http://www.cs.toronto.edu/~larocheh/public/datasets/binarized_mnist/binarized_mnist_train.amat',os.path.join(dir_path,'binarized_mnist_train.amat'))\n",
    "    urllib.urlretrieve('http://www.cs.toronto.edu/~larocheh/public/datasets/binarized_mnist/binarized_mnist_valid.amat',os.path.join(dir_path,'binarized_mnist_valid.amat'))\n",
    "    urllib.urlretrieve('http://www.cs.toronto.edu/~larocheh/public/datasets/binarized_mnist/binarized_mnist_test.amat',os.path.join(dir_path,'binarized_mnist_test.amat'))\n",
    "\n",
    "    print('Done                     ')"
   ]
  },
  {
   "cell_type": "markdown",
   "metadata": {},
   "source": [
    "# Model specifications"
   ]
  },
  {
   "cell_type": "markdown",
   "metadata": {},
   "source": [
    "## Custom Layers"
   ]
  },
  {
   "cell_type": "code",
   "execution_count": null,
   "metadata": {},
   "outputs": [],
   "source": [
    "class MaskedConv2D(Conv2D):\n",
    "    \"\"\"\n",
    "    Masked Convolution from [1]. Contains the same implementation of Conv2D from keras, but\n",
    "    allows one to specify whether the mask type is 'A', 'B', or None.\n",
    "    \n",
    "    Params\n",
    "    ------\n",
    "    \n",
    "    mask_type: string, default=None\n",
    "        Determines the masking type for the convolution from [1].\n",
    "    \n",
    "    References\n",
    "    ----------\n",
    "    \n",
    "    [1] https://arxiv.org/pdf/1601.06759.pdf\n",
    "    \"\"\"\n",
    "    \n",
    "    def __init__(self, filters, kernel_size, padding='same', mask_type=None, mask_rgb=True, **kwargs):\n",
    "        super(MaskedConv2D, self).__init__(filters, kernel_size, padding=padding, **kwargs)\n",
    "        self.mask_type = mask_type\n",
    "        self.mask_rgb = mask_rgb\n",
    "        \n",
    "    def build(self, input_shape):\n",
    "        super(MaskedConv2D, self).build(input_shape)\n",
    "        \n",
    "        if self.data_format == 'channels_first':\n",
    "            channel_axis = 1\n",
    "        else:\n",
    "            channel_axis = -1\n",
    "        if input_shape[channel_axis] is None:\n",
    "            raise ValueError('The channel dimension of the inputs '\n",
    "                             'should be defined. Found `None`.')\n",
    "        input_dim = input_shape[channel_axis]\n",
    "        kernel_shape = self.kernel_size + (input_dim, self.filters)\n",
    "        \n",
    "        # assert that the kernel size is odd\n",
    "        assert self.kernel_size[0] % 2 == 1\n",
    "        assert self.kernel_size[1] % 2 == 1\n",
    "        \n",
    "        center = (self.kernel_size[0] // 2, self.kernel_size[1] // 2)\n",
    "        self.mask = np.ones(kernel_shape)\n",
    "        \n",
    "        # mask out values right of center\n",
    "        self.mask[center[0]:, center[1]+1:, :, :] = 0\n",
    "        \n",
    "        # mask out values below center\n",
    "        self.mask[center[0]+1:, :, :, :] = 0\n",
    "        \n",
    "        # mask out center if masking type is 'A'\n",
    "        if self.mask_type == 'A':\n",
    "            self.mask[center[0], center[0], :, :] = 0\n",
    "        \n",
    "        # mask RGB channels\n",
    "        if self.mask_rgb:\n",
    "            if input_dim >= 1:\n",
    "                self.mask[center[0], center[0], 0, 1:] = 0\n",
    "            if input_dim >= 2:\n",
    "                self.mask[center[0], center[0], 1, 2:] = 0\n",
    "            if input_dim >= 3:\n",
    "                self.mask[center[0], center[0], 2, 3:] = 0\n",
    "        \n",
    "        self.mask = K.variable(self.mask)\n",
    "        \n",
    "    def call(self, inputs):\n",
    "        if self.mask_type is None:\n",
    "            return super(MaskedConv2D, self).call(inputs)\n",
    "        outputs = K.conv2d(\n",
    "            inputs,\n",
    "            self.kernel * self.mask,\n",
    "            strides=self.strides,\n",
    "            padding=self.padding,\n",
    "            data_format=self.data_format,\n",
    "            dilation_rate=self.dilation_rate\n",
    "        )\n",
    "        if self.use_bias:\n",
    "            outputs = K.bias_add(\n",
    "            outputs,\n",
    "            self.bias,\n",
    "            data_format=self.data_format\n",
    "            )\n",
    "        if self.activation is not None:\n",
    "            return self.activation(outputs)\n",
    "        return outputs"
   ]
  },
  {
   "cell_type": "code",
   "execution_count": null,
   "metadata": {},
   "outputs": [],
   "source": [
    "class ResidualBlock(object):\n",
    "    \n",
    "    def __init__(self, filters, mask_rgb=True):\n",
    "        self.filters = filters\n",
    "        self.mask_rgb = mask_rgb\n",
    "        \n",
    "    def __call__(self, model):\n",
    "        block = Activation('relu')(model)\n",
    "        block = Conv2D(self.filters // 2, 1, activation='relu')(block)\n",
    "        block = MaskedConv2D(self.filters // 2, 3, mask_type='B', mask_rgb=self.mask_rgb, activation='relu')(block)\n",
    "        block = Conv2D(self.filters, 1)(block)\n",
    "        \n",
    "        return Add()([model, block])"
   ]
  },
  {
   "cell_type": "markdown",
   "metadata": {},
   "source": [
    "# Data"
   ]
  },
  {
   "cell_type": "code",
   "execution_count": null,
   "metadata": {},
   "outputs": [],
   "source": [
    "(x_train, y_train), (x_test, y_test) = mnist.load_data()\n",
    "x_train = np.expand_dims(x_train, -1)\n",
    "x_test = np.expand_dims(x_test, -1)\n",
    "x_train = x_train/255.\n",
    "x_test = x_test/255.\n",
    "\n",
    "x_train = (x_train > np.random.rand(*x_train.shape)).astype(np.int32)\n",
    "x_test = (x_test > np.random.rand(*x_test.shape)).astype(np.int32)"
   ]
  },
  {
   "cell_type": "markdown",
   "metadata": {},
   "source": [
    "# Training"
   ]
  },
  {
   "cell_type": "code",
   "execution_count": null,
   "metadata": {},
   "outputs": [],
   "source": [
    "h = 16\n",
    "layers = 12\n",
    "\n",
    "x = Input(shape=(28, 28, 1))\n",
    "y = MaskedConv2D(h, 7, mask_type='A', mask_rgb=False)(x)\n",
    "\n",
    "for i in range(layers):\n",
    "    y = ResidualBlock(h, mask_rgb=False)(y)\n",
    "    \n",
    "for i in range(2):\n",
    "    y = Activation('relu')(y)\n",
    "    y = Conv2D(1, 1)(y)\n",
    "\n",
    "y = Activation('sigmoid')(y)    \n",
    "\n",
    "model = Model(x, y)\n",
    "model.summary()"
   ]
  },
  {
   "cell_type": "code",
   "execution_count": null,
   "metadata": {},
   "outputs": [],
   "source": [
    "def pixel_cnn_loss(y_true, y_pred):\n",
    "    return K.sum(K.binary_crossentropy(y_true, y_pred), axis=(-1, -2, -3))\n",
    "\n",
    "nb_regions = 5\n",
    "regions = cumsum([3**i for i in range(nb_regions+1)]) + 30\n",
    "schedule = lambda i, lr: 0.001 * 10**(-sum(regions <= i)/nb_regions)\n",
    "lr_schedule = LearningRateScheduler(schedule)\n",
    "\n",
    "epochs = regions[-1]\n",
    "batch_size = 1000\n",
    "\n",
    "model.compile(loss=pixel_cnn_loss, optimizer='adam')\n",
    "model.fit(x_train, x_train, batch_size=batch_size, epochs=epochs, callbacks=[lr_schedule])"
   ]
  },
  {
   "cell_type": "code",
   "execution_count": null,
   "metadata": {},
   "outputs": [],
   "source": [
    "x_half = x_train[:100].copy()\n",
    "x_half[:, 14:] = 0\n",
    "imshow(x_half[1][:, :, 0])"
   ]
  },
  {
   "cell_type": "code",
   "execution_count": null,
   "metadata": {},
   "outputs": [],
   "source": [
    "x_pred = np.repeat(np.expand_dims(x_half[1], 0), 100, axis=0)\n",
    "for i in range(14, 28):\n",
    "    for j in range(0, 28):\n",
    "        pred = model.predict(x_pred)\n",
    "        x_pred[:, i, j] = pred[:, i, j] > np.random.rand(*pred[:, i, j].shape)"
   ]
  },
  {
   "cell_type": "code",
   "execution_count": null,
   "metadata": {},
   "outputs": [],
   "source": [
    "fig, axes = plt.subplots(10, 10, dpi=300, figsize=(10, 10), constrained_layout=True)\n",
    "\n",
    "for i, ax in enumerate(axes):\n",
    "    for j, a in enumerate(ax):\n",
    "        a.imshow(x_pred[i*10 + j, :, :, 0])\n",
    "        a.set_xticks(())\n",
    "        a.set_yticks(())"
   ]
  },
  {
   "cell_type": "code",
   "execution_count": 130,
   "metadata": {},
   "outputs": [],
   "source": [
    "np.repeat?"
   ]
  },
  {
   "cell_type": "code",
   "execution_count": null,
   "metadata": {},
   "outputs": [],
   "source": []
  }
 ],
 "metadata": {
  "kernelspec": {
   "display_name": "Python [conda env:tensorflow-gpu]",
   "language": "python",
   "name": "conda-env-tensorflow-gpu-py"
  },
  "language_info": {
   "codemirror_mode": {
    "name": "ipython",
    "version": 3
   },
   "file_extension": ".py",
   "mimetype": "text/x-python",
   "name": "python",
   "nbconvert_exporter": "python",
   "pygments_lexer": "ipython3",
   "version": "3.6.8"
  }
 },
 "nbformat": 4,
 "nbformat_minor": 2
}
